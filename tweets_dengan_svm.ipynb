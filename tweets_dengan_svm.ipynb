{
 "cells": [
  {
   "cell_type": "code",
   "execution_count": 1,
   "metadata": {},
   "outputs": [],
   "source": [
    "import numpy as np"
   ]
  },
  {
   "cell_type": "code",
   "execution_count": 2,
   "metadata": {},
   "outputs": [],
   "source": [
    "import pandas as pd\n",
    "#import library numpy dan pandas"
   ]
  },
  {
   "cell_type": "code",
   "execution_count": 3,
   "metadata": {},
   "outputs": [],
   "source": [
    "df=pd.read_csv('tweets_csv_siap.csv',sep=';')\n",
    "#read csv file"
   ]
  },
  {
   "cell_type": "code",
   "execution_count": 4,
   "metadata": {},
   "outputs": [
    {
     "data": {
      "text/html": [
       "<div>\n",
       "<style scoped>\n",
       "    .dataframe tbody tr th:only-of-type {\n",
       "        vertical-align: middle;\n",
       "    }\n",
       "\n",
       "    .dataframe tbody tr th {\n",
       "        vertical-align: top;\n",
       "    }\n",
       "\n",
       "    .dataframe thead th {\n",
       "        text-align: right;\n",
       "    }\n",
       "</style>\n",
       "<table border=\"1\" class=\"dataframe\">\n",
       "  <thead>\n",
       "    <tr style=\"text-align: right;\">\n",
       "      <th></th>\n",
       "      <th>tweet</th>\n",
       "      <th>kelas</th>\n",
       "    </tr>\n",
       "  </thead>\n",
       "  <tbody>\n",
       "    <tr>\n",
       "      <th>0</th>\n",
       "      <td>el_atheos ridwankamil ya mungkin karena peremp...</td>\n",
       "      <td>bukan keluhan atau respon</td>\n",
       "    </tr>\n",
       "    <tr>\n",
       "      <th>1</th>\n",
       "      <td>ridwankamil dbmpkotabdg kang teman saya tertim...</td>\n",
       "      <td>keluhan</td>\n",
       "    </tr>\n",
       "    <tr>\n",
       "      <th>2</th>\n",
       "      <td>di tribun jabar biasanya suka di post agenda k...</td>\n",
       "      <td>bukan keluhan atau respon</td>\n",
       "    </tr>\n",
       "    <tr>\n",
       "      <th>3</th>\n",
       "      <td>dbmpkotabdg rt fajriattack: lapor pak ridwanka...</td>\n",
       "      <td>keluhan</td>\n",
       "    </tr>\n",
       "    <tr>\n",
       "      <th>4</th>\n",
       "      <td>diskamtam bapak/ibu mau tanya kalo pemeliharaa...</td>\n",
       "      <td>bukan keluhan atau respon</td>\n",
       "    </tr>\n",
       "  </tbody>\n",
       "</table>\n",
       "</div>"
      ],
      "text/plain": [
       "                                               tweet  \\\n",
       "0  el_atheos ridwankamil ya mungkin karena peremp...   \n",
       "1  ridwankamil dbmpkotabdg kang teman saya tertim...   \n",
       "2  di tribun jabar biasanya suka di post agenda k...   \n",
       "3  dbmpkotabdg rt fajriattack: lapor pak ridwanka...   \n",
       "4  diskamtam bapak/ibu mau tanya kalo pemeliharaa...   \n",
       "\n",
       "                       kelas  \n",
       "0  bukan keluhan atau respon  \n",
       "1                    keluhan  \n",
       "2  bukan keluhan atau respon  \n",
       "3                    keluhan  \n",
       "4  bukan keluhan atau respon  "
      ]
     },
     "execution_count": 4,
     "metadata": {},
     "output_type": "execute_result"
    }
   ],
   "source": [
    "df.head()\n",
    "#verifikasi 5 row data pertama"
   ]
  },
  {
   "cell_type": "code",
   "execution_count": 5,
   "metadata": {},
   "outputs": [
    {
     "data": {
      "text/html": [
       "<div>\n",
       "<style scoped>\n",
       "    .dataframe tbody tr th:only-of-type {\n",
       "        vertical-align: middle;\n",
       "    }\n",
       "\n",
       "    .dataframe tbody tr th {\n",
       "        vertical-align: top;\n",
       "    }\n",
       "\n",
       "    .dataframe thead th {\n",
       "        text-align: right;\n",
       "    }\n",
       "</style>\n",
       "<table border=\"1\" class=\"dataframe\">\n",
       "  <thead>\n",
       "    <tr style=\"text-align: right;\">\n",
       "      <th></th>\n",
       "      <th>tweet</th>\n",
       "      <th>kelas</th>\n",
       "    </tr>\n",
       "  </thead>\n",
       "  <tbody>\n",
       "    <tr>\n",
       "      <th>7522</th>\n",
       "      <td>rt yayan_98: ridwankamil pa tong nyalon ka jak...</td>\n",
       "      <td>bukan keluhan atau respon</td>\n",
       "    </tr>\n",
       "    <tr>\n",
       "      <th>7523</th>\n",
       "      <td>whatt??di jabar msh byk daerah potensi yg blm ...</td>\n",
       "      <td>bukan keluhan atau respon</td>\n",
       "    </tr>\n",
       "    <tr>\n",
       "      <th>7524</th>\n",
       "      <td>dbmpkotabdg kelrancabolang ridwankamil pemumbd...</td>\n",
       "      <td>keluhan</td>\n",
       "    </tr>\n",
       "    <tr>\n",
       "      <th>7525</th>\n",
       "      <td>buka twitter muncul promote ginian. gimana atu...</td>\n",
       "      <td>keluhan</td>\n",
       "    </tr>\n",
       "    <tr>\n",
       "      <th>7526</th>\n",
       "      <td>rt yogipamadya: kang ridwankamil angkot jadi t...</td>\n",
       "      <td>bukan keluhan atau respon</td>\n",
       "    </tr>\n",
       "  </tbody>\n",
       "</table>\n",
       "</div>"
      ],
      "text/plain": [
       "                                                  tweet  \\\n",
       "7522  rt yayan_98: ridwankamil pa tong nyalon ka jak...   \n",
       "7523  whatt??di jabar msh byk daerah potensi yg blm ...   \n",
       "7524  dbmpkotabdg kelrancabolang ridwankamil pemumbd...   \n",
       "7525  buka twitter muncul promote ginian. gimana atu...   \n",
       "7526  rt yogipamadya: kang ridwankamil angkot jadi t...   \n",
       "\n",
       "                          kelas  \n",
       "7522  bukan keluhan atau respon  \n",
       "7523  bukan keluhan atau respon  \n",
       "7524                    keluhan  \n",
       "7525                    keluhan  \n",
       "7526  bukan keluhan atau respon  "
      ]
     },
     "execution_count": 5,
     "metadata": {},
     "output_type": "execute_result"
    }
   ],
   "source": [
    "df.tail()\n",
    "#verifikasi 5 row data terakhir"
   ]
  },
  {
   "cell_type": "code",
   "execution_count": 6,
   "metadata": {},
   "outputs": [
    {
     "data": {
      "text/plain": [
       "Index(['tweet', 'kelas'], dtype='object')"
      ]
     },
     "execution_count": 6,
     "metadata": {},
     "output_type": "execute_result"
    }
   ],
   "source": [
    "df.columns\n",
    "#verifikasi nama kolom"
   ]
  },
  {
   "cell_type": "code",
   "execution_count": 7,
   "metadata": {},
   "outputs": [
    {
     "data": {
      "text/plain": [
       "tweet    0\n",
       "kelas    0\n",
       "dtype: int64"
      ]
     },
     "execution_count": 7,
     "metadata": {},
     "output_type": "execute_result"
    }
   ],
   "source": [
    "df.isnull().sum()\n",
    "#verifikasi kelengkapan data"
   ]
  },
  {
   "cell_type": "code",
   "execution_count": 8,
   "metadata": {},
   "outputs": [
    {
     "data": {
      "text/plain": [
       "7527"
      ]
     },
     "execution_count": 8,
     "metadata": {},
     "output_type": "execute_result"
    }
   ],
   "source": [
    "len(df)\n",
    "#verdifikasi panjang row data"
   ]
  },
  {
   "cell_type": "code",
   "execution_count": 9,
   "metadata": {},
   "outputs": [
    {
     "data": {
      "text/plain": [
       "0       el_atheos ridwankamil ya mungkin karena peremp...\n",
       "1       ridwankamil dbmpkotabdg kang teman saya tertim...\n",
       "2       di tribun jabar biasanya suka di post agenda k...\n",
       "3       dbmpkotabdg rt fajriattack: lapor pak ridwanka...\n",
       "4       diskamtam bapak/ibu mau tanya kalo pemeliharaa...\n",
       "5       pa ridwankamil tempat kerja saya tgl 25 tetep ...\n",
       "6       pdamtirtaweningridwankamil  00106700466 punten...\n",
       "7       rt kendiadiputra: anak sma yang ketahuan mencu...\n",
       "8       pdamtirtawening ternyata sudah ada warga yg ko...\n",
       "9       kang ridwankamil jalan di muararajeun baru bar...\n",
       "10      rt adammaulud: didinyamah kieu 👍 bosss! kumaha...\n",
       "11      pak ridwankamil punten tolong marahin motor yg...\n",
       "12      dbmpkotabdg ridwankamil hatur nuhun dbmp lampu...\n",
       "13      kalo pemkotbandung ridwankamil mau batasi kend...\n",
       "14      rt iqbalfg: pak ridwankamil punten tolong mara...\n",
       "15      pak tadi saya habis dari kebun binatang itu ke...\n",
       "16      rt tadjiuinbdg: ridwankamil lapor pak mobil ni...\n",
       "17      bonbin bandung agak kurang terawat kasian sama...\n",
       "18      pak ridwankamilsy pnya saran angkot 08 dan ant...\n",
       "19      rt tadjiuinbdg: ridwankamil lapor pak mobil ni...\n",
       "20      ridwankamil pak sya lg mau pulang naek diangko...\n",
       "21      dishub_kotabdg sepertinya yang membuat jlnan m...\n",
       "22      infobdg kalau macet begini di lihat di depanny...\n",
       "23      #saurwargi reckythea: tolg ad seorang wanita d...\n",
       "24      bimaaryas diskominfobdg dishub_jabar dishub_ko...\n",
       "25      rt se_bdg: #saurwargi reckythea: tolg ad seora...\n",
       "26      el_atheos hendronurkholis ridwankamil he he pe...\n",
       "27      punten saya baru denger beritanya .. apa sudah...\n",
       "28      min dbmpkotabdg kalau dilihat dari foto di baw...\n",
       "29      rt soowoobdg: min dbmpkotabdg kalau dilihat da...\n",
       "                              ...                        \n",
       "7497    rojak_forever thehermawans pasti karena ridwan...\n",
       "7498    satpolppbdg jualan laser ga ganggu sm sekali.g...\n",
       "7499    ridwankamil kang.td mlm di jln cikutra orng pa...\n",
       "7500    rt bdgstarlight: penertiban pkl di sepanjang j...\n",
       "7501    rt dbmpkotabdg: ridwankamil odedmd yossiiriant...\n",
       "7502    rt dbmpkotabdg: ridwankamil odedmd yossiiriant...\n",
       "7503    ridwankamil pak kemarin di berita ada jomlo ba...\n",
       "7504    rt infobdg: #lalinbdg 18.16 : jl moch toha ban...\n",
       "7505    rt aragotheaniki: ridwankamil gimana bisa berd...\n",
       "7506    tidak adakah solusi lebih simpel dan murah ata...\n",
       "7507    ridwankamil satpolppbdg dbmpkotabdg pdkebersih...\n",
       "7508    rt dadan_permanadp: ridwankamil satpolppbdg db...\n",
       "7509    di katamso dpn kursus bahasa sptnya ada keboco...\n",
       "7510    rt didadjuanda: di katamso dpn kursus bahasa s...\n",
       "7511    ridwankamil waspada terhadap dukungan tdk tulu...\n",
       "7512    didadjuanda dbmpkotabdg prfmnews dapat kami in...\n",
       "7513    ridwankamil bagus bangunan yg langgar dpt sank...\n",
       "7514    dishub_kotabdg iwginting ridwankamil prfmnews ...\n",
       "7515    ridwankamil pa tong nyalon ka jakarta atuh pa ...\n",
       "7516    makin speechless sama #bandungjuara &amp; ini ...\n",
       "7517    kirain spanduk  simpatisan isis dilarang masuk...\n",
       "7518    dbmpkotabdg:  kelrancabolang ridwankamil pemum...\n",
       "7519    omprap kelrancabolang ridwankamil pemumbdg tim...\n",
       "7520    infobandung dishub_kotabdg oia klo ga salah ta...\n",
       "7521    ridwankamil jadi gubernur dki jakarta dikit-di...\n",
       "7522    rt yayan_98: ridwankamil pa tong nyalon ka jak...\n",
       "7523    whatt??di jabar msh byk daerah potensi yg blm ...\n",
       "7524    dbmpkotabdg kelrancabolang ridwankamil pemumbd...\n",
       "7525    buka twitter muncul promote ginian. gimana atu...\n",
       "7526    rt yogipamadya: kang ridwankamil angkot jadi t...\n",
       "Name: tweet, Length: 7527, dtype: object"
      ]
     },
     "execution_count": 9,
     "metadata": {},
     "output_type": "execute_result"
    }
   ],
   "source": [
    "df['tweet']\n",
    "#verifikasi isi tweet"
   ]
  },
  {
   "cell_type": "code",
   "execution_count": 10,
   "metadata": {},
   "outputs": [
    {
     "data": {
      "text/plain": [
       "0       bukan keluhan atau respon\n",
       "1                         keluhan\n",
       "2       bukan keluhan atau respon\n",
       "3                         keluhan\n",
       "4       bukan keluhan atau respon\n",
       "5                         keluhan\n",
       "6                         keluhan\n",
       "7                         keluhan\n",
       "8       bukan keluhan atau respon\n",
       "9                         keluhan\n",
       "10                        keluhan\n",
       "11                        keluhan\n",
       "12      bukan keluhan atau respon\n",
       "13      bukan keluhan atau respon\n",
       "14                        keluhan\n",
       "15                        keluhan\n",
       "16                        keluhan\n",
       "17                        keluhan\n",
       "18      bukan keluhan atau respon\n",
       "19                        keluhan\n",
       "20      bukan keluhan atau respon\n",
       "21                        keluhan\n",
       "22                        keluhan\n",
       "23                        keluhan\n",
       "24      bukan keluhan atau respon\n",
       "25                        keluhan\n",
       "26      bukan keluhan atau respon\n",
       "27      bukan keluhan atau respon\n",
       "28      bukan keluhan atau respon\n",
       "29      bukan keluhan atau respon\n",
       "                  ...            \n",
       "7497    bukan keluhan atau respon\n",
       "7498    bukan keluhan atau respon\n",
       "7499                      keluhan\n",
       "7500    bukan keluhan atau respon\n",
       "7501                       respon\n",
       "7502                       respon\n",
       "7503    bukan keluhan atau respon\n",
       "7504                      keluhan\n",
       "7505                      keluhan\n",
       "7506                      keluhan\n",
       "7507                      keluhan\n",
       "7508                      keluhan\n",
       "7509                      keluhan\n",
       "7510                      keluhan\n",
       "7511    bukan keluhan atau respon\n",
       "7512    bukan keluhan atau respon\n",
       "7513    bukan keluhan atau respon\n",
       "7514    bukan keluhan atau respon\n",
       "7515    bukan keluhan atau respon\n",
       "7516    bukan keluhan atau respon\n",
       "7517    bukan keluhan atau respon\n",
       "7518    bukan keluhan atau respon\n",
       "7519    bukan keluhan atau respon\n",
       "7520                      keluhan\n",
       "7521    bukan keluhan atau respon\n",
       "7522    bukan keluhan atau respon\n",
       "7523    bukan keluhan atau respon\n",
       "7524                      keluhan\n",
       "7525                      keluhan\n",
       "7526    bukan keluhan atau respon\n",
       "Name: kelas, Length: 7527, dtype: object"
      ]
     },
     "execution_count": 10,
     "metadata": {},
     "output_type": "execute_result"
    }
   ],
   "source": [
    "df['kelas']\n",
    "#verifikasi isi kolom kelas"
   ]
  },
  {
   "cell_type": "code",
   "execution_count": 11,
   "metadata": {},
   "outputs": [
    {
     "data": {
      "text/plain": [
       "bukan keluhan atau respon    3865\n",
       "keluhan                      2745\n",
       "respon                        917\n",
       "Name: kelas, dtype: int64"
      ]
     },
     "execution_count": 11,
     "metadata": {},
     "output_type": "execute_result"
    }
   ],
   "source": [
    "df['kelas'].value_counts()\n",
    "#melihat unik value dari kolom label nya"
   ]
  },
  {
   "cell_type": "code",
   "execution_count": 12,
   "metadata": {},
   "outputs": [],
   "source": [
    "import sklearn"
   ]
  },
  {
   "cell_type": "code",
   "execution_count": 13,
   "metadata": {},
   "outputs": [],
   "source": [
    "from sklearn.model_selection import train_test_split"
   ]
  },
  {
   "cell_type": "code",
   "execution_count": 14,
   "metadata": {},
   "outputs": [],
   "source": [
    "X = df['tweet']"
   ]
  },
  {
   "cell_type": "code",
   "execution_count": 15,
   "metadata": {},
   "outputs": [],
   "source": [
    "y = df['kelas']"
   ]
  },
  {
   "cell_type": "code",
   "execution_count": 16,
   "metadata": {},
   "outputs": [],
   "source": [
    "X_train, X_test, y_train, y_test = train_test_split(X,y,test_size = 0.30, random_state=42)"
   ]
  },
  {
   "cell_type": "code",
   "execution_count": 17,
   "metadata": {},
   "outputs": [],
   "source": [
    "from sklearn.feature_extraction.text import CountVectorizer"
   ]
  },
  {
   "cell_type": "code",
   "execution_count": 18,
   "metadata": {},
   "outputs": [],
   "source": [
    "count_vect = CountVectorizer()"
   ]
  },
  {
   "cell_type": "code",
   "execution_count": 19,
   "metadata": {},
   "outputs": [],
   "source": [
    "X_train_counts = count_vect.fit_transform(X_train)"
   ]
  },
  {
   "cell_type": "code",
   "execution_count": 20,
   "metadata": {},
   "outputs": [
    {
     "data": {
      "text/plain": [
       "<5268x10578 sparse matrix of type '<class 'numpy.int64'>'\n",
       "\twith 90830 stored elements in Compressed Sparse Row format>"
      ]
     },
     "execution_count": 20,
     "metadata": {},
     "output_type": "execute_result"
    }
   ],
   "source": [
    "X_train_counts"
   ]
  },
  {
   "cell_type": "code",
   "execution_count": 21,
   "metadata": {},
   "outputs": [
    {
     "data": {
      "text/plain": [
       "(5268,)"
      ]
     },
     "execution_count": 21,
     "metadata": {},
     "output_type": "execute_result"
    }
   ],
   "source": [
    "X_train.shape"
   ]
  },
  {
   "cell_type": "code",
   "execution_count": 22,
   "metadata": {},
   "outputs": [
    {
     "data": {
      "text/plain": [
       "(5268, 10578)"
      ]
     },
     "execution_count": 22,
     "metadata": {},
     "output_type": "execute_result"
    }
   ],
   "source": [
    "X_train_counts.shape"
   ]
  },
  {
   "cell_type": "code",
   "execution_count": 23,
   "metadata": {},
   "outputs": [],
   "source": [
    "from sklearn.feature_extraction.text import TfidfTransformer"
   ]
  },
  {
   "cell_type": "code",
   "execution_count": 24,
   "metadata": {},
   "outputs": [],
   "source": [
    "tfidf_transformer = TfidfTransformer()"
   ]
  },
  {
   "cell_type": "code",
   "execution_count": 25,
   "metadata": {},
   "outputs": [],
   "source": [
    "X_train_tfidf = tfidf_transformer.fit_transform(X_train_counts)"
   ]
  },
  {
   "cell_type": "code",
   "execution_count": 26,
   "metadata": {},
   "outputs": [
    {
     "data": {
      "text/plain": [
       "(5268, 10578)"
      ]
     },
     "execution_count": 26,
     "metadata": {},
     "output_type": "execute_result"
    }
   ],
   "source": [
    "X_train_tfidf.shape\n",
    "#bukan lagi hanya counts tapi tfidf"
   ]
  },
  {
   "cell_type": "code",
   "execution_count": 27,
   "metadata": {},
   "outputs": [],
   "source": [
    "from sklearn.feature_extraction.text import TfidfVectorizer"
   ]
  },
  {
   "cell_type": "code",
   "execution_count": 28,
   "metadata": {},
   "outputs": [],
   "source": [
    "vectorizer = TfidfVectorizer()"
   ]
  },
  {
   "cell_type": "code",
   "execution_count": 29,
   "metadata": {},
   "outputs": [],
   "source": [
    "X_tain_tfidf=vectorizer.fit_transform(X_train)\n",
    "#Menggabungkan proses vectorizer dan tfidf"
   ]
  },
  {
   "cell_type": "code",
   "execution_count": 30,
   "metadata": {},
   "outputs": [],
   "source": [
    "from sklearn.svm import LinearSVC"
   ]
  },
  {
   "cell_type": "code",
   "execution_count": 31,
   "metadata": {},
   "outputs": [],
   "source": [
    "clf = LinearSVC()"
   ]
  },
  {
   "cell_type": "code",
   "execution_count": 32,
   "metadata": {},
   "outputs": [
    {
     "data": {
      "text/plain": [
       "LinearSVC(C=1.0, class_weight=None, dual=True, fit_intercept=True,\n",
       "     intercept_scaling=1, loss='squared_hinge', max_iter=1000,\n",
       "     multi_class='ovr', penalty='l2', random_state=None, tol=0.0001,\n",
       "     verbose=0)"
      ]
     },
     "execution_count": 32,
     "metadata": {},
     "output_type": "execute_result"
    }
   ],
   "source": [
    "clf.fit(X_train_tfidf,y_train)\n",
    "#model yang digunakan"
   ]
  },
  {
   "cell_type": "code",
   "execution_count": 33,
   "metadata": {},
   "outputs": [],
   "source": [
    "from sklearn.pipeline import Pipeline\n",
    "#Pipeline kelas perform kombinasi semua nya"
   ]
  },
  {
   "cell_type": "code",
   "execution_count": 34,
   "metadata": {},
   "outputs": [],
   "source": [
    "text_clf = Pipeline([('tfidf',TfidfVectorizer()),('clf',LinearSVC())])\n",
    "#semua step dalam satu single step"
   ]
  },
  {
   "cell_type": "code",
   "execution_count": 35,
   "metadata": {},
   "outputs": [
    {
     "data": {
      "text/plain": [
       "Pipeline(memory=None,\n",
       "     steps=[('tfidf', TfidfVectorizer(analyzer='word', binary=False, decode_error='strict',\n",
       "        dtype=<class 'numpy.float64'>, encoding='utf-8', input='content',\n",
       "        lowercase=True, max_df=1.0, max_features=None, min_df=1,\n",
       "        ngram_range=(1, 1), norm='l2', preprocessor=None, smooth_idf=True,...ax_iter=1000,\n",
       "     multi_class='ovr', penalty='l2', random_state=None, tol=0.0001,\n",
       "     verbose=0))])"
      ]
     },
     "execution_count": 35,
     "metadata": {},
     "output_type": "execute_result"
    }
   ],
   "source": [
    "text_clf.fit(X_train,y_train)"
   ]
  },
  {
   "cell_type": "code",
   "execution_count": 36,
   "metadata": {},
   "outputs": [],
   "source": [
    "predictions = text_clf.predict(X_test)"
   ]
  },
  {
   "cell_type": "code",
   "execution_count": 37,
   "metadata": {},
   "outputs": [],
   "source": [
    "from sklearn.metrics import confusion_matrix,classification_report"
   ]
  },
  {
   "cell_type": "code",
   "execution_count": 38,
   "metadata": {},
   "outputs": [
    {
     "name": "stdout",
     "output_type": "stream",
     "text": [
      "[[1045  117    9]\n",
      " [  99  716    1]\n",
      " [   2    4  266]]\n"
     ]
    }
   ],
   "source": [
    "print(confusion_matrix(y_test,predictions))"
   ]
  },
  {
   "cell_type": "code",
   "execution_count": 39,
   "metadata": {},
   "outputs": [
    {
     "name": "stdout",
     "output_type": "stream",
     "text": [
      "                           precision    recall  f1-score   support\n",
      "\n",
      "bukan keluhan atau respon       0.91      0.89      0.90      1171\n",
      "                  keluhan       0.86      0.88      0.87       816\n",
      "                   respon       0.96      0.98      0.97       272\n",
      "\n",
      "                micro avg       0.90      0.90      0.90      2259\n",
      "                macro avg       0.91      0.92      0.91      2259\n",
      "             weighted avg       0.90      0.90      0.90      2259\n",
      "\n"
     ]
    }
   ],
   "source": [
    "print(classification_report(y_test,predictions))"
   ]
  },
  {
   "cell_type": "code",
   "execution_count": 40,
   "metadata": {},
   "outputs": [],
   "source": [
    "from sklearn import metrics"
   ]
  },
  {
   "cell_type": "code",
   "execution_count": 41,
   "metadata": {},
   "outputs": [
    {
     "data": {
      "text/plain": [
       "0.8972996901283754"
      ]
     },
     "execution_count": 41,
     "metadata": {},
     "output_type": "execute_result"
    }
   ],
   "source": [
    "metrics.accuracy_score(y_test,predictions)"
   ]
  },
  {
   "cell_type": "code",
   "execution_count": 43,
   "metadata": {},
   "outputs": [
    {
     "data": {
      "text/plain": [
       "array(['bukan keluhan atau respon'], dtype=object)"
      ]
     },
     "execution_count": 43,
     "metadata": {},
     "output_type": "execute_result"
    }
   ],
   "source": [
    "text_clf.predict([\"paste uji tweets disini\"])"
   ]
  },
  {
   "cell_type": "code",
   "execution_count": null,
   "metadata": {},
   "outputs": [],
   "source": []
  }
 ],
 "metadata": {
  "kernelspec": {
   "display_name": "Python 3",
   "language": "python",
   "name": "python3"
  },
  "language_info": {
   "codemirror_mode": {
    "name": "ipython",
    "version": 3
   },
   "file_extension": ".py",
   "mimetype": "text/x-python",
   "name": "python",
   "nbconvert_exporter": "python",
   "pygments_lexer": "ipython3",
   "version": "3.7.1"
  }
 },
 "nbformat": 4,
 "nbformat_minor": 2
}
